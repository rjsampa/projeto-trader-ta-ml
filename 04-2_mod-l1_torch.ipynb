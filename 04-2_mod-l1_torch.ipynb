{
 "cells": [
  {
   "cell_type": "code",
   "execution_count": 35,
   "metadata": {},
   "outputs": [],
   "source": [
    "# implementacao e treinamento da rede\n",
    "import torch\n",
    "from torch import nn, optim\n",
    "\n",
    "# dados\n",
    "from torch.utils.data import DataLoader, Dataset\n",
    "# from torchvision import models, transforms\n",
    "from backtesting import *\n",
    "# plots\n",
    "from sklearn.metrics import accuracy_score, ConfusionMatrixDisplay, precision_recall_fscore_support\n",
    "\n",
    "import matplotlib.pyplot as plt\n",
    "import numpy as np\n",
    "import pandas as pd\n",
    "from tqdm import tqdm\n",
    "import os\n",
    "import warnings\n",
    "warnings.filterwarnings('ignore')\n",
    "os.environ['CUDA_LAUNCH_BLOCKING'] = '1'"
   ]
  },
  {
   "cell_type": "code",
   "execution_count": 2,
   "metadata": {},
   "outputs": [],
   "source": [
    "args = {\n",
    "    'epoch_num': 5,\n",
    "    'lr': 1e-4,\n",
    "    'num_workes': 10,  # numero de processos\n",
    "    'weight_decay': 8e-4,\n",
    "    'batch_size': 20\n",
    "}"
   ]
  },
  {
   "cell_type": "code",
   "execution_count": 3,
   "metadata": {},
   "outputs": [
    {
     "name": "stdout",
     "output_type": "stream",
     "text": [
      "cuda\n"
     ]
    }
   ],
   "source": [
    "# Configurando Hardware\n",
    "if torch.cuda.is_available():\n",
    "    args['device'] = torch.device('cuda')\n",
    "else:\n",
    "    args['device'] = torch.device('cpu')\n",
    "\n",
    "print(args['device'])"
   ]
  },
  {
   "cell_type": "markdown",
   "metadata": {},
   "source": [
    "# Carregando base"
   ]
  },
  {
   "cell_type": "code",
   "execution_count": 4,
   "metadata": {},
   "outputs": [],
   "source": [
    "class HistoricoAcoes(Dataset):\n",
    "    # , scaler_feat=None, sacaler_label=None):\n",
    "    def __init__(self, path_x, path_y):\n",
    "        self.X = np.load(path_x).astype('float32')\n",
    "        if '.npy' in path_y:\n",
    "            self.y = np.load(path_y).reshape(-1, 1).astype('int64')\n",
    "        else:\n",
    "            self.y = path_y\n",
    "\n",
    "    def __getitem__(self, index):\n",
    "        sample = torch.from_numpy(self.X[index])\n",
    "        label = torch.from_numpy(self.y[index])\n",
    "\n",
    "        return sample, label\n",
    "\n",
    "    def __len__(self):\n",
    "        return self.X.shape[0]"
   ]
  },
  {
   "cell_type": "code",
   "execution_count": 5,
   "metadata": {},
   "outputs": [],
   "source": [
    "path_train_x = 'base/X_train_balance_torch_2.npy'\n",
    "path_train_y = 'base/y_train_balance_torch_2.npy'\n",
    "path_test_x = 'base/X_test_torch_2.npy'\n",
    "path_test_y = 'base/y_test_torch_2.npy'"
   ]
  },
  {
   "cell_type": "code",
   "execution_count": 6,
   "metadata": {},
   "outputs": [],
   "source": [
    "train_set = HistoricoAcoes(path_x=path_train_x, path_y=path_train_y)\n",
    "test_set = HistoricoAcoes(path_x=path_test_x, path_y=path_test_y)"
   ]
  },
  {
   "cell_type": "code",
   "execution_count": 7,
   "metadata": {},
   "outputs": [],
   "source": [
    "dado, label = train_set[0]"
   ]
  },
  {
   "cell_type": "code",
   "execution_count": 8,
   "metadata": {},
   "outputs": [],
   "source": [
    "dado, label = test_set[0]"
   ]
  },
  {
   "cell_type": "code",
   "execution_count": null,
   "metadata": {},
   "outputs": [],
   "source": []
  },
  {
   "cell_type": "markdown",
   "metadata": {},
   "source": [
    "## construindo DataLoader"
   ]
  },
  {
   "cell_type": "code",
   "execution_count": 9,
   "metadata": {},
   "outputs": [],
   "source": [
    "train_loader = DataLoader(\n",
    "    train_set,\n",
    "    batch_size=args['batch_size'],\n",
    "    shuffle=True\n",
    ")"
   ]
  },
  {
   "cell_type": "code",
   "execution_count": 10,
   "metadata": {},
   "outputs": [],
   "source": [
    "test_loader = DataLoader(\n",
    "    test_set,\n",
    "    batch_size=args['batch_size'],\n",
    "    shuffle=True\n",
    ")"
   ]
  },
  {
   "cell_type": "code",
   "execution_count": null,
   "metadata": {},
   "outputs": [],
   "source": []
  },
  {
   "cell_type": "markdown",
   "metadata": {},
   "source": [
    "# Construindo Rede"
   ]
  },
  {
   "cell_type": "code",
   "execution_count": 13,
   "metadata": {},
   "outputs": [],
   "source": [
    "# reference Sezer (2018) \"Algorithmic financial trading with deep convolutional neural networks: Time series to image conversion approach\"\n",
    "\n",
    "\n",
    "class CNN_signal(nn.Module):\n",
    "    # camada convulocional 1\n",
    "    def __init__(self):\n",
    "        super(CNN_signal, self).__init__()\n",
    "        self.conv1 = nn.Conv2d(\n",
    "            in_channels=1, out_channels=32, kernel_size=3, padding=1)\n",
    "        # camada convulocional 2\n",
    "        self.conv2 = nn.Conv2d(\n",
    "            in_channels=32, out_channels=64, kernel_size=3, padding=1)\n",
    "        # camada de pooling máxima\n",
    "        self.pool = nn.MaxPool2d(kernel_size=2, stride=2)\n",
    "        # camada dropout 1\n",
    "        self.dropout1 = nn.Dropout(0.25)\n",
    "        # camada dropout 2\n",
    "        self.dropout2 = nn.Dropout(0.7)  # 0.5\n",
    "        # camda totalmente conectada 1\n",
    "        self.fc1 = nn.Linear(64*30*30, 128)\n",
    "        # camada de saida\n",
    "        self.fc2 = nn.Linear(128, 3)\n",
    "\n",
    "    def forward(self, x):\n",
    "        # Passando pela primeira camada convolucional e pela função de ativação ReLU\n",
    "        x = nn.functional.relu(self.conv1(x))\n",
    "        # Passando pela segunda camada convolucional e pela função de ativação ReLU\n",
    "        x = nn.functional.relu(self.conv2(x))\n",
    "        # Aplicando pooling máxima\n",
    "        x = self.pool(x)\n",
    "        # Aplicando dropout\n",
    "        x = self.dropout1(x)\n",
    "        # Achatar o tensor para a camada totalmente conectada\n",
    "        x = x.view(-1, 64*30*30)\n",
    "        # Primeira camada totalmente conectada\n",
    "        x = nn.functional.relu(self.fc1(x))\n",
    "        # Aplicando dropout\n",
    "        x = self.dropout2(x)\n",
    "        # Camada de saída\n",
    "        x = self.fc2(x)\n",
    "        return x"
   ]
  },
  {
   "cell_type": "code",
   "execution_count": 14,
   "metadata": {},
   "outputs": [],
   "source": [
    "# criando rede\n",
    "net = CNN_signal()"
   ]
  },
  {
   "cell_type": "markdown",
   "metadata": {},
   "source": [
    "# Criterion"
   ]
  },
  {
   "cell_type": "code",
   "execution_count": 15,
   "metadata": {},
   "outputs": [],
   "source": [
    "# funcao de perda\n",
    "criterion = nn.CrossEntropyLoss().to(args['device'])\n",
    "optimizer = optim.Adam(\n",
    "    net.parameters(), lr=args['lr'], weight_decay=args['weight_decay'])"
   ]
  },
  {
   "cell_type": "markdown",
   "metadata": {},
   "source": [
    "# Treino"
   ]
  },
  {
   "cell_type": "code",
   "execution_count": 16,
   "metadata": {},
   "outputs": [],
   "source": [
    "import time\n",
    "import os\n",
    "\n",
    "\n",
    "def train(train_loader, net, epoch):\n",
    "\n",
    "    # Training mode\n",
    "    net.train()\n",
    "\n",
    "    start = time.time()\n",
    "\n",
    "    epoch_loss = []\n",
    "    pred_list, rotulo_list = np.array([]), np.array([])\n",
    "    for batch in tqdm(train_loader):\n",
    "\n",
    "        dado, rotulo = batch\n",
    "        dado = dado.view(dado.size(0), 1, dado.size(1), dado.size(2))\n",
    "        rotulo = rotulo.view(-1)\n",
    "        # Cast do dado na GPU\n",
    "        dado = dado.to(args['device'], dtype=torch.float32)\n",
    "        rotulo = rotulo.to(args['device'], dtype=torch.long)\n",
    "\n",
    "        # Forward\n",
    "        ypred = net(dado)\n",
    "        loss = criterion(ypred, rotulo)\n",
    "        epoch_loss.append(loss.cpu().data)\n",
    "\n",
    "        _, pred = torch.max(ypred, axis=1)\n",
    "        # pred_list.append(pred.cpu().numpy())\n",
    "        # rotulo_list.append(rotulo.cpu().numpy())\n",
    "        pred_list = np.append(pred.cpu().numpy(), pred_list)\n",
    "        rotulo_list = np.append(rotulo.cpu().numpy(), rotulo_list)\n",
    "\n",
    "        # Backpropagation\n",
    "        optimizer.zero_grad()\n",
    "        loss.backward()\n",
    "        optimizer.step()\n",
    "\n",
    "    epoch_loss = np.array(epoch_loss)\n",
    "    pred_list = np.array(pred_list).ravel()\n",
    "    rotulo_list = np.array(rotulo_list).ravel()\n",
    "\n",
    "    acc = accuracy_score(pred_list, rotulo_list)\n",
    "    precision_recall = precision_recall_fscore_support(pred_list, rotulo_list)\n",
    "\n",
    "    end = time.time()\n",
    "    print('#################### Train ####################')\n",
    "    print('Epoch %d, Loss: %.4f +/- %.4f, Acc: %.2f, Prec 2: %.2f ,Prec 3: %.2f ,Time: %.2f' %\n",
    "          (epoch, epoch_loss.mean(), epoch_loss.std(), acc*100, precision_recall[0][1]*100, precision_recall[0][2]*100, end-start))\n",
    "\n",
    "    return epoch_loss.mean()"
   ]
  },
  {
   "cell_type": "code",
   "execution_count": 19,
   "metadata": {},
   "outputs": [],
   "source": [
    "def validate(test_loader, net, epoch):\n",
    "\n",
    "    # Evaluation mode\n",
    "    net.eval()\n",
    "\n",
    "    start = time.time()\n",
    "\n",
    "    epoch_loss = []\n",
    "    pred_list, rotulo_list = np.array([]), np.array([])\n",
    "    # with torch.no_grad():\n",
    "    for batch in tqdm(test_loader):\n",
    "\n",
    "        dado, rotulo = batch\n",
    "\n",
    "        # Cast do dado na GPU\n",
    "        dado = dado.view(dado.size(0), 1, dado.size(1), dado.size(2))\n",
    "        rotulo = rotulo.view(-1)\n",
    "\n",
    "        dado = dado.to(args['device'], dtype=torch.float32)\n",
    "        rotulo = rotulo.to(args['device'], dtype=torch.long)\n",
    "        rotulo[rotulo < 0] = 0\n",
    "\n",
    "        num_classes = 3  # Supondo que haja 3 classes\n",
    "        if rotulo.max().item() >= num_classes or rotulo.min().item() < 0:\n",
    "            print(f\"Os rótulos estão fora do intervalo esperado.\\n min: {\n",
    "                  rotulo.min().item()}\\n max: {rotulo.max().item()}\")\n",
    "            # raise ValueError(\"Os rótulos estão fora do intervalo esperado.\")\n",
    "\n",
    "        else:\n",
    "            # Forward\n",
    "            ypred = net(dado)\n",
    "            loss = criterion(ypred, rotulo.view(-1))\n",
    "            epoch_loss.append(loss.cpu().data)\n",
    "\n",
    "            _, pred = torch.max(ypred, axis=1)\n",
    "            # pred_list.append(pred.cpu().numpy())\n",
    "            # rotulo_list.append(rotulo.cpu().numpy())\n",
    "            pred_list = np.append(pred.cpu().numpy(), pred_list)\n",
    "            rotulo_list = np.append(rotulo.cpu().numpy(), rotulo_list)\n",
    "\n",
    "    epoch_loss = np.asarray(epoch_loss)\n",
    "    pred_list = np.asarray(pred_list).ravel()\n",
    "    rotulo_list = np.asarray(rotulo_list).ravel()\n",
    "\n",
    "    acc = accuracy_score(pred_list, rotulo_list)\n",
    "    precision_recall = precision_recall_fscore_support(pred_list, rotulo_list)\n",
    "\n",
    "    end = time.time()\n",
    "    print('********** Validate **********')\n",
    "    # print('Epoch %d, Loss: %.4f +/- %.4f, Acc: %.2f, Time: %.2f\\n' %\n",
    "    #       (epoch, epoch_loss.mean(), epoch_loss.std(), acc*100, end-start))\n",
    "    print('Epoch %d, Loss: %.4f +/- %.4f, Acc: %.2f, Prec 2: %.2f ,Prec 3: %.2f ,Time: %.2f' %\n",
    "          (epoch, epoch_loss.mean(), epoch_loss.std(), acc*100, precision_recall[0][1]*100, precision_recall[0][2]*100, end-start))\n",
    "\n",
    "    return epoch_loss.mean()"
   ]
  },
  {
   "cell_type": "code",
   "execution_count": 20,
   "metadata": {},
   "outputs": [
    {
     "data": {
      "text/plain": [
       "CNN_signal(\n",
       "  (conv1): Conv2d(1, 32, kernel_size=(3, 3), stride=(1, 1), padding=(1, 1))\n",
       "  (conv2): Conv2d(32, 64, kernel_size=(3, 3), stride=(1, 1), padding=(1, 1))\n",
       "  (pool): MaxPool2d(kernel_size=2, stride=2, padding=0, dilation=1, ceil_mode=False)\n",
       "  (dropout1): Dropout(p=0.25, inplace=False)\n",
       "  (dropout2): Dropout(p=0.7, inplace=False)\n",
       "  (fc1): Linear(in_features=57600, out_features=128, bias=True)\n",
       "  (fc2): Linear(in_features=128, out_features=3, bias=True)\n",
       ")"
      ]
     },
     "execution_count": 20,
     "metadata": {},
     "output_type": "execute_result"
    }
   ],
   "source": [
    "net.to(args['device'])"
   ]
  },
  {
   "cell_type": "code",
   "execution_count": 21,
   "metadata": {},
   "outputs": [
    {
     "name": "stderr",
     "output_type": "stream",
     "text": [
      "100%|██████████| 11256/11256 [01:47<00:00, 104.38it/s]\n"
     ]
    },
    {
     "name": "stdout",
     "output_type": "stream",
     "text": [
      "#################### Train ####################\n",
      "Epoch 0, Loss: 0.6489 +/- 0.1244, Acc: 69.70, Prec 2: 87.29 ,Prec 3: 84.10 ,Time: 107.98\n"
     ]
    },
    {
     "name": "stderr",
     "output_type": "stream",
     "text": [
      "100%|██████████| 163/163 [00:00<00:00, 359.58it/s]\n"
     ]
    },
    {
     "name": "stdout",
     "output_type": "stream",
     "text": [
      "********** Validate **********\n",
      "Epoch 0, Loss: 0.8391 +/- 0.1346, Acc: 49.11, Prec 2: 55.34 ,Prec 3: 66.67 ,Time: 0.46\n"
     ]
    },
    {
     "name": "stderr",
     "output_type": "stream",
     "text": [
      "100%|██████████| 11256/11256 [01:46<00:00, 105.65it/s]\n"
     ]
    },
    {
     "name": "stdout",
     "output_type": "stream",
     "text": [
      "#################### Train ####################\n",
      "Epoch 1, Loss: 0.5396 +/- 0.1218, Acc: 75.73, Prec 2: 89.60 ,Prec 3: 87.74 ,Time: 106.68\n"
     ]
    },
    {
     "name": "stderr",
     "output_type": "stream",
     "text": [
      "100%|██████████| 163/163 [00:00<00:00, 376.44it/s]\n"
     ]
    },
    {
     "name": "stdout",
     "output_type": "stream",
     "text": [
      "********** Validate **********\n",
      "Epoch 1, Loss: 0.7423 +/- 0.1702, Acc: 58.68, Prec 2: 51.46 ,Prec 3: 55.86 ,Time: 0.44\n"
     ]
    },
    {
     "name": "stderr",
     "output_type": "stream",
     "text": [
      "100%|██████████| 11256/11256 [01:47<00:00, 105.17it/s]\n"
     ]
    },
    {
     "name": "stdout",
     "output_type": "stream",
     "text": [
      "#################### Train ####################\n",
      "Epoch 2, Loss: 0.4700 +/- 0.1234, Acc: 79.30, Prec 2: 91.19 ,Prec 3: 89.64 ,Time: 107.17\n"
     ]
    },
    {
     "name": "stderr",
     "output_type": "stream",
     "text": [
      "100%|██████████| 163/163 [00:00<00:00, 388.13it/s]\n"
     ]
    },
    {
     "name": "stdout",
     "output_type": "stream",
     "text": [
      "********** Validate **********\n",
      "Epoch 2, Loss: 0.6851 +/- 0.1912, Acc: 64.28, Prec 2: 42.72 ,Prec 3: 50.45 ,Time: 0.42\n"
     ]
    },
    {
     "name": "stderr",
     "output_type": "stream",
     "text": [
      "100%|██████████| 11256/11256 [01:44<00:00, 107.52it/s]\n"
     ]
    },
    {
     "name": "stdout",
     "output_type": "stream",
     "text": [
      "#################### Train ####################\n",
      "Epoch 3, Loss: 0.4246 +/- 0.1251, Acc: 81.58, Prec 2: 92.22 ,Prec 3: 90.77 ,Time: 104.82\n"
     ]
    },
    {
     "name": "stderr",
     "output_type": "stream",
     "text": [
      "100%|██████████| 163/163 [00:00<00:00, 400.46it/s]\n"
     ]
    },
    {
     "name": "stdout",
     "output_type": "stream",
     "text": [
      "********** Validate **********\n",
      "Epoch 3, Loss: 0.6323 +/- 0.2281, Acc: 69.66, Prec 2: 26.21 ,Prec 3: 43.24 ,Time: 0.41\n"
     ]
    },
    {
     "name": "stderr",
     "output_type": "stream",
     "text": [
      "100%|██████████| 11256/11256 [01:42<00:00, 110.12it/s]\n"
     ]
    },
    {
     "name": "stdout",
     "output_type": "stream",
     "text": [
      "#################### Train ####################\n",
      "Epoch 4, Loss: 0.3938 +/- 0.1241, Acc: 83.01, Prec 2: 92.65 ,Prec 3: 91.45 ,Time: 102.45\n"
     ]
    },
    {
     "name": "stderr",
     "output_type": "stream",
     "text": [
      "100%|██████████| 163/163 [00:00<00:00, 404.44it/s]\n"
     ]
    },
    {
     "name": "stdout",
     "output_type": "stream",
     "text": [
      "********** Validate **********\n",
      "Epoch 4, Loss: 0.5984 +/- 0.2541, Acc: 75.08, Prec 2: 22.82 ,Prec 3: 34.23 ,Time: 0.41\n"
     ]
    },
    {
     "name": "stderr",
     "output_type": "stream",
     "text": [
      "100%|██████████| 11256/11256 [01:42<00:00, 109.90it/s]\n"
     ]
    },
    {
     "name": "stdout",
     "output_type": "stream",
     "text": [
      "#################### Train ####################\n",
      "Epoch 5, Loss: 0.3719 +/- 0.1239, Acc: 84.13, Prec 2: 92.95 ,Prec 3: 91.99 ,Time: 102.57\n"
     ]
    },
    {
     "name": "stderr",
     "output_type": "stream",
     "text": [
      "100%|██████████| 163/163 [00:00<00:00, 391.65it/s]\n"
     ]
    },
    {
     "name": "stdout",
     "output_type": "stream",
     "text": [
      "********** Validate **********\n",
      "Epoch 5, Loss: 0.5914 +/- 0.2611, Acc: 75.54, Prec 2: 26.21 ,Prec 3: 36.04 ,Time: 0.42\n"
     ]
    },
    {
     "name": "stderr",
     "output_type": "stream",
     "text": [
      "100%|██████████| 11256/11256 [01:42<00:00, 109.70it/s]\n"
     ]
    },
    {
     "name": "stdout",
     "output_type": "stream",
     "text": [
      "#################### Train ####################\n",
      "Epoch 6, Loss: 0.3531 +/- 0.1247, Acc: 85.03, Prec 2: 93.25 ,Prec 3: 92.46 ,Time: 102.76\n"
     ]
    },
    {
     "name": "stderr",
     "output_type": "stream",
     "text": [
      "100%|██████████| 163/163 [00:00<00:00, 381.73it/s]\n"
     ]
    },
    {
     "name": "stdout",
     "output_type": "stream",
     "text": [
      "********** Validate **********\n",
      "Epoch 6, Loss: 0.5843 +/- 0.2299, Acc: 76.55, Prec 2: 29.13 ,Prec 3: 19.82 ,Time: 0.43\n"
     ]
    },
    {
     "name": "stderr",
     "output_type": "stream",
     "text": [
      "100%|██████████| 11256/11256 [01:42<00:00, 109.85it/s]\n"
     ]
    },
    {
     "name": "stdout",
     "output_type": "stream",
     "text": [
      "#################### Train ####################\n",
      "Epoch 7, Loss: 0.3386 +/- 0.1234, Acc: 85.76, Prec 2: 93.54 ,Prec 3: 92.73 ,Time: 102.62\n"
     ]
    },
    {
     "name": "stderr",
     "output_type": "stream",
     "text": [
      "100%|██████████| 163/163 [00:00<00:00, 396.59it/s]\n"
     ]
    },
    {
     "name": "stdout",
     "output_type": "stream",
     "text": [
      "********** Validate **********\n",
      "Epoch 7, Loss: 0.5892 +/- 0.3007, Acc: 76.89, Prec 2: 18.93 ,Prec 3: 32.43 ,Time: 0.42\n"
     ]
    },
    {
     "name": "stderr",
     "output_type": "stream",
     "text": [
      "100%|██████████| 11256/11256 [01:43<00:00, 109.02it/s]\n"
     ]
    },
    {
     "name": "stdout",
     "output_type": "stream",
     "text": [
      "#################### Train ####################\n",
      "Epoch 8, Loss: 0.3278 +/- 0.1212, Acc: 86.09, Prec 2: 93.50 ,Prec 3: 92.74 ,Time: 103.39\n"
     ]
    },
    {
     "name": "stderr",
     "output_type": "stream",
     "text": [
      "100%|██████████| 163/163 [00:00<00:00, 395.64it/s]\n"
     ]
    },
    {
     "name": "stdout",
     "output_type": "stream",
     "text": [
      "********** Validate **********\n",
      "Epoch 8, Loss: 0.5927 +/- 0.2532, Acc: 77.23, Prec 2: 24.76 ,Prec 3: 22.97 ,Time: 0.42\n"
     ]
    },
    {
     "name": "stderr",
     "output_type": "stream",
     "text": [
      "100%|██████████| 11256/11256 [01:42<00:00, 109.51it/s]\n"
     ]
    },
    {
     "name": "stdout",
     "output_type": "stream",
     "text": [
      "#################### Train ####################\n",
      "Epoch 9, Loss: 0.3196 +/- 0.1235, Acc: 86.64, Prec 2: 93.79 ,Prec 3: 93.15 ,Time: 103.06\n"
     ]
    },
    {
     "name": "stderr",
     "output_type": "stream",
     "text": [
      "100%|██████████| 163/163 [00:00<00:00, 383.73it/s]"
     ]
    },
    {
     "name": "stdout",
     "output_type": "stream",
     "text": [
      "********** Validate **********\n",
      "Epoch 9, Loss: 0.5714 +/- 0.3080, Acc: 78.83, Prec 2: 20.39 ,Prec 3: 18.47 ,Time: 0.43\n"
     ]
    },
    {
     "name": "stderr",
     "output_type": "stream",
     "text": [
      "\n"
     ]
    }
   ],
   "source": [
    "train_loss = []\n",
    "test_loss = []\n",
    "epoch_train = 0\n",
    "epoch_test = 0\n",
    "# treinamento\n",
    "for epoch in range(10):  # 36 min 50\n",
    "    if abs(epoch_train-epoch_test) <= 0.4:\n",
    "        epoch_train = train(train_loader=train_loader, net=net, epoch=epoch)\n",
    "        train_loss.append(epoch_train)\n",
    "        # Validat\n",
    "        epoch_test = validate(test_loader, net, epoch)\n",
    "        test_loss.append(epoch_test)\n",
    "\n",
    "    else:\n",
    "        break"
   ]
  },
  {
   "cell_type": "markdown",
   "metadata": {},
   "source": [
    "## Convergência"
   ]
  },
  {
   "cell_type": "code",
   "execution_count": 22,
   "metadata": {},
   "outputs": [
    {
     "data": {
      "image/png": "[encoded data removed]",
      "text/plain": [
       "<Figure size 1400x700 with 1 Axes>"
      ]
     },
     "metadata": {},
     "output_type": "display_data"
    }
   ],
   "source": [
    "plt.figure(figsize=(14, 7))\n",
    "plt.plot(train_loss, label='Treino')\n",
    "plt.plot(test_loss, label='Teste', linewidth=3, alpha=0.5)\n",
    "plt.xlabel('Epochs', fontsize=16)\n",
    "plt.ylabel('Loss', fontsize=16)\n",
    "plt.title('Convergencia', fontsize=16)\n",
    "plt.legend()\n",
    "plt.show()"
   ]
  },
  {
   "cell_type": "code",
   "execution_count": 23,
   "metadata": {},
   "outputs": [],
   "source": [
    "# salvando modelo\n",
    "torch.save(net.state_dict(), 'base/model_2_10_epoch')"
   ]
  },
  {
   "cell_type": "markdown",
   "metadata": {},
   "source": [
    "# Teste"
   ]
  },
  {
   "cell_type": "code",
   "execution_count": 25,
   "metadata": {},
   "outputs": [],
   "source": [
    "df_test = pd.read_csv('base/y_test_2.csv')"
   ]
  },
  {
   "cell_type": "code",
   "execution_count": 26,
   "metadata": {},
   "outputs": [],
   "source": [
    "X_test = torch.from_numpy(test_set.X.astype('float32'))\n",
    "X_test = X_test.view(X_test.size(0), 1, X_test.size(1), X_test.size(2))"
   ]
  },
  {
   "cell_type": "code",
   "execution_count": 27,
   "metadata": {},
   "outputs": [],
   "source": [
    "net.to('cpu')\n",
    "y_pred = net(X_test)\n",
    "score, pred = torch.max(y_pred, axis=1)\n",
    "y_pred = pred.cpu().numpy()\n",
    "score = score.detach().cpu().numpy()\n",
    "\n",
    "y_test = test_set.y.astype('int')"
   ]
  },
  {
   "cell_type": "code",
   "execution_count": 28,
   "metadata": {},
   "outputs": [
    {
     "data": {
      "text/plain": [
       "(3250, 1)"
      ]
     },
     "execution_count": 28,
     "metadata": {},
     "output_type": "execute_result"
    }
   ],
   "source": [
    "y_test.shape"
   ]
  },
  {
   "cell_type": "code",
   "execution_count": 29,
   "metadata": {},
   "outputs": [
    {
     "data": {
      "text/plain": [
       "<sklearn.metrics._plot.confusion_matrix.ConfusionMatrixDisplay at 0x2620a34fad0>"
      ]
     },
     "execution_count": 29,
     "metadata": {},
     "output_type": "execute_result"
    },
    {
     "data": {
      "image/png": "[encoded data removed]",
      "text/plain": [
       "<Figure size 640x480 with 2 Axes>"
      ]
     },
     "metadata": {},
     "output_type": "display_data"
    }
   ],
   "source": [
    "cross = pd.crosstab(y_test.flatten(), y_pred)\n",
    "\n",
    "matrix = cross.values\n",
    "cm_display = ConfusionMatrixDisplay(\n",
    "    confusion_matrix=matrix, display_labels=[\"Mantem\", \"Compra\", \"Vende\"])\n",
    "\n",
    "# display matrix\n",
    "cm_display.plot(cmap='inferno')"
   ]
  },
  {
   "cell_type": "code",
   "execution_count": 31,
   "metadata": {},
   "outputs": [],
   "source": [
    "precision, recall, fscore, support = precision_recall_fscore_support(\n",
    "    y_pred=y_pred,\n",
    "    y_true=y_test\n",
    ")"
   ]
  },
  {
   "cell_type": "code",
   "execution_count": 32,
   "metadata": {},
   "outputs": [
    {
     "data": {
      "text/html": [
       "<div>\n",
       "<style scoped>\n",
       "    .dataframe tbody tr th:only-of-type {\n",
       "        vertical-align: middle;\n",
       "    }\n",
       "\n",
       "    .dataframe tbody tr th {\n",
       "        vertical-align: top;\n",
       "    }\n",
       "\n",
       "    .dataframe thead th {\n",
       "        text-align: right;\n",
       "    }\n",
       "</style>\n",
       "<table border=\"1\" class=\"dataframe\">\n",
       "  <thead>\n",
       "    <tr style=\"text-align: right;\">\n",
       "      <th></th>\n",
       "      <th>precision</th>\n",
       "      <th>recall</th>\n",
       "      <th>f1score</th>\n",
       "    </tr>\n",
       "  </thead>\n",
       "  <tbody>\n",
       "    <tr>\n",
       "      <th>manter</th>\n",
       "      <td>0.881851</td>\n",
       "      <td>0.878101</td>\n",
       "      <td>0.879972</td>\n",
       "    </tr>\n",
       "    <tr>\n",
       "      <th>comprar</th>\n",
       "      <td>0.170040</td>\n",
       "      <td>0.203883</td>\n",
       "      <td>0.185430</td>\n",
       "    </tr>\n",
       "    <tr>\n",
       "      <th>vender</th>\n",
       "      <td>0.212435</td>\n",
       "      <td>0.184685</td>\n",
       "      <td>0.197590</td>\n",
       "    </tr>\n",
       "  </tbody>\n",
       "</table>\n",
       "</div>"
      ],
      "text/plain": [
       "         precision    recall   f1score\n",
       "manter    0.881851  0.878101  0.879972\n",
       "comprar   0.170040  0.203883  0.185430\n",
       "vender    0.212435  0.184685  0.197590"
      ]
     },
     "execution_count": 32,
     "metadata": {},
     "output_type": "execute_result"
    }
   ],
   "source": [
    "resultado_best = pd.DataFrame(\n",
    "    {\n",
    "        'precision': precision,\n",
    "        'recall': recall,\n",
    "        'f1score': fscore\n",
    "    },\n",
    "    index=['manter', 'comprar', 'vender']\n",
    ")\n",
    "resultado_best"
   ]
  },
  {
   "cell_type": "markdown",
   "metadata": {},
   "source": [
    "# Backtesting"
   ]
  },
  {
   "cell_type": "code",
   "execution_count": 33,
   "metadata": {},
   "outputs": [],
   "source": [
    "def test_modelos(acao, df_val=None):\n",
    "    signais = [i for i in df_val.columns if 'signal' in i]\n",
    "    df_aux = df_val.loc[\n",
    "        df_val['acao'] == acao,\n",
    "        ['Date', 'Close']+signais\n",
    "    ]\n",
    "\n",
    "    performances = []\n",
    "\n",
    "    for sinal in signais:\n",
    "        bkt_l1 = Backtesting(\n",
    "            df=df_aux,\n",
    "            sinal=sinal,\n",
    "            capital_inicial=1000\n",
    "        )\n",
    "        bkt_l1.backtesting()\n",
    "        performance = round(bkt_l1.capital, 1)\n",
    "        performances.append(performance)\n",
    "    return performances, signais"
   ]
  },
  {
   "cell_type": "code",
   "execution_count": 34,
   "metadata": {},
   "outputs": [],
   "source": [
    "# sinal previsto\n",
    "df_test['signal_pred'] = y_pred"
   ]
  },
  {
   "cell_type": "code",
   "execution_count": 36,
   "metadata": {},
   "outputs": [],
   "source": [
    "# executando backtesting\n",
    "acoes = df_test['acao'].unique()\n",
    "backtest_result = {}\n",
    "for acao in acoes:\n",
    "    performance, signais = test_modelos(acao, df_test)\n",
    "    backtest_result[acao] = performance"
   ]
  },
  {
   "cell_type": "code",
   "execution_count": 37,
   "metadata": {},
   "outputs": [],
   "source": [
    "df_result = pd.DataFrame(backtest_result, index=[\n",
    "    signais]).T"
   ]
  },
  {
   "cell_type": "code",
   "execution_count": 38,
   "metadata": {},
   "outputs": [
    {
     "data": {
      "text/html": [
       "<div>\n",
       "<style scoped>\n",
       "    .dataframe tbody tr th:only-of-type {\n",
       "        vertical-align: middle;\n",
       "    }\n",
       "\n",
       "    .dataframe tbody tr th {\n",
       "        vertical-align: top;\n",
       "    }\n",
       "\n",
       "    .dataframe thead tr th {\n",
       "        text-align: left;\n",
       "    }\n",
       "</style>\n",
       "<table border=\"1\" class=\"dataframe\">\n",
       "  <thead>\n",
       "    <tr>\n",
       "      <th></th>\n",
       "      <th>signal_pred</th>\n",
       "    </tr>\n",
       "  </thead>\n",
       "  <tbody>\n",
       "    <tr>\n",
       "      <th>ABCB4</th>\n",
       "      <td>1000.0</td>\n",
       "    </tr>\n",
       "    <tr>\n",
       "      <th>ALUP11</th>\n",
       "      <td>1087.7</td>\n",
       "    </tr>\n",
       "    <tr>\n",
       "      <th>ARZZ3</th>\n",
       "      <td>1083.9</td>\n",
       "    </tr>\n",
       "    <tr>\n",
       "      <th>B3SA3</th>\n",
       "      <td>991.2</td>\n",
       "    </tr>\n",
       "    <tr>\n",
       "      <th>BBAS3</th>\n",
       "      <td>1031.5</td>\n",
       "    </tr>\n",
       "  </tbody>\n",
       "</table>\n",
       "</div>"
      ],
      "text/plain": [
       "       signal_pred\n",
       "ABCB4       1000.0\n",
       "ALUP11      1087.7\n",
       "ARZZ3       1083.9\n",
       "B3SA3        991.2\n",
       "BBAS3       1031.5"
      ]
     },
     "execution_count": 38,
     "metadata": {},
     "output_type": "execute_result"
    }
   ],
   "source": [
    "df_result.head()"
   ]
  },
  {
   "cell_type": "code",
   "execution_count": 39,
   "metadata": {},
   "outputs": [
    {
     "data": {
      "text/html": [
       "<div>\n",
       "<style scoped>\n",
       "    .dataframe tbody tr th:only-of-type {\n",
       "        vertical-align: middle;\n",
       "    }\n",
       "\n",
       "    .dataframe tbody tr th {\n",
       "        vertical-align: top;\n",
       "    }\n",
       "\n",
       "    .dataframe thead tr th {\n",
       "        text-align: left;\n",
       "    }\n",
       "</style>\n",
       "<table border=\"1\" class=\"dataframe\">\n",
       "  <thead>\n",
       "    <tr>\n",
       "      <th></th>\n",
       "      <th>signal_pred</th>\n",
       "    </tr>\n",
       "  </thead>\n",
       "  <tbody>\n",
       "    <tr>\n",
       "      <th>count</th>\n",
       "      <td>65.000000</td>\n",
       "    </tr>\n",
       "    <tr>\n",
       "      <th>mean</th>\n",
       "      <td>1020.958462</td>\n",
       "    </tr>\n",
       "    <tr>\n",
       "      <th>std</th>\n",
       "      <td>71.331558</td>\n",
       "    </tr>\n",
       "    <tr>\n",
       "      <th>min</th>\n",
       "      <td>852.700000</td>\n",
       "    </tr>\n",
       "    <tr>\n",
       "      <th>25%</th>\n",
       "      <td>993.300000</td>\n",
       "    </tr>\n",
       "    <tr>\n",
       "      <th>50%</th>\n",
       "      <td>1014.900000</td>\n",
       "    </tr>\n",
       "    <tr>\n",
       "      <th>75%</th>\n",
       "      <td>1044.400000</td>\n",
       "    </tr>\n",
       "    <tr>\n",
       "      <th>max</th>\n",
       "      <td>1299.600000</td>\n",
       "    </tr>\n",
       "  </tbody>\n",
       "</table>\n",
       "</div>"
      ],
      "text/plain": [
       "       signal_pred\n",
       "count    65.000000\n",
       "mean   1020.958462\n",
       "std      71.331558\n",
       "min     852.700000\n",
       "25%     993.300000\n",
       "50%    1014.900000\n",
       "75%    1044.400000\n",
       "max    1299.600000"
      ]
     },
     "execution_count": 39,
     "metadata": {},
     "output_type": "execute_result"
    }
   ],
   "source": [
    "df_result.describe()"
   ]
  },
  {
   "cell_type": "code",
   "execution_count": 40,
   "metadata": {},
   "outputs": [
    {
     "data": {
      "text/plain": [
       "signal_pred    0.615385\n",
       "dtype: float64"
      ]
     },
     "execution_count": 40,
     "metadata": {},
     "output_type": "execute_result"
    }
   ],
   "source": [
    "(df_result > 1000).sum() / df_result.shape[0]"
   ]
  },
  {
   "cell_type": "code",
   "execution_count": 41,
   "metadata": {},
   "outputs": [
    {
     "data": {
      "text/html": [
       "<div>\n",
       "<style scoped>\n",
       "    .dataframe tbody tr th:only-of-type {\n",
       "        vertical-align: middle;\n",
       "    }\n",
       "\n",
       "    .dataframe tbody tr th {\n",
       "        vertical-align: top;\n",
       "    }\n",
       "\n",
       "    .dataframe thead th {\n",
       "        text-align: right;\n",
       "    }\n",
       "</style>\n",
       "<table border=\"1\" class=\"dataframe\">\n",
       "  <thead>\n",
       "    <tr style=\"text-align: right;\">\n",
       "      <th></th>\n",
       "      <th>precision</th>\n",
       "      <th>recall</th>\n",
       "      <th>f1score</th>\n",
       "    </tr>\n",
       "  </thead>\n",
       "  <tbody>\n",
       "    <tr>\n",
       "      <th>manter</th>\n",
       "      <td>0.881851</td>\n",
       "      <td>0.878101</td>\n",
       "      <td>0.879972</td>\n",
       "    </tr>\n",
       "    <tr>\n",
       "      <th>comprar</th>\n",
       "      <td>0.170040</td>\n",
       "      <td>0.203883</td>\n",
       "      <td>0.185430</td>\n",
       "    </tr>\n",
       "    <tr>\n",
       "      <th>vender</th>\n",
       "      <td>0.212435</td>\n",
       "      <td>0.184685</td>\n",
       "      <td>0.197590</td>\n",
       "    </tr>\n",
       "  </tbody>\n",
       "</table>\n",
       "</div>"
      ],
      "text/plain": [
       "         precision    recall   f1score\n",
       "manter    0.881851  0.878101  0.879972\n",
       "comprar   0.170040  0.203883  0.185430\n",
       "vender    0.212435  0.184685  0.197590"
      ]
     },
     "execution_count": 41,
     "metadata": {},
     "output_type": "execute_result"
    }
   ],
   "source": [
    "resultado_best"
   ]
  },
  {
   "cell_type": "code",
   "execution_count": null,
   "metadata": {},
   "outputs": [],
   "source": []
  }
 ],
 "metadata": {
  "kernelspec": {
   "display_name": "pytorch-gpu",
   "language": "python",
   "name": "python3"
  },
  "language_info": {
   "codemirror_mode": {
    "name": "ipython",
    "version": 3
   },
   "file_extension": ".py",
   "mimetype": "text/x-python",
   "name": "python",
   "nbconvert_exporter": "python",
   "pygments_lexer": "ipython3",
   "version": "3.12.4"
  }
 },
 "nbformat": 4,
 "nbformat_minor": 2
}
